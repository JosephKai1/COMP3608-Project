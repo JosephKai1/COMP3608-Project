{
 "cells": [
  {
   "cell_type": "code",
   "execution_count": 1,
   "id": "ad698351",
   "metadata": {},
   "outputs": [
    {
     "name": "stdout",
     "output_type": "stream",
     "text": [
      "Requirement already satisfied: wildlife-datasets in c:\\users\\kaila\\appdata\\local\\programs\\python\\python312\\lib\\site-packages (1.0.5)\n",
      "Requirement already satisfied: numpy>=1.19.4 in c:\\users\\kaila\\appdata\\local\\programs\\python\\python312\\lib\\site-packages (from wildlife-datasets) (2.2.3)\n",
      "Requirement already satisfied: pandas>=1.1.4 in c:\\users\\kaila\\appdata\\local\\programs\\python\\python312\\lib\\site-packages (from wildlife-datasets) (2.2.3)\n",
      "Requirement already satisfied: tqdm>=4.62.3 in c:\\users\\kaila\\appdata\\local\\programs\\python\\python312\\lib\\site-packages (from wildlife-datasets) (4.67.1)\n",
      "Requirement already satisfied: opencv-python>=4.5.5.62 in c:\\users\\kaila\\appdata\\local\\programs\\python\\python312\\lib\\site-packages (from wildlife-datasets) (4.11.0.86)\n",
      "Requirement already satisfied: Pillow>=7.1.2 in c:\\users\\kaila\\appdata\\local\\programs\\python\\python312\\lib\\site-packages (from wildlife-datasets) (11.1.0)\n",
      "Requirement already satisfied: scikit-learn>=1.0.1 in c:\\users\\kaila\\appdata\\local\\programs\\python\\python312\\lib\\site-packages (from wildlife-datasets) (1.6.1)\n",
      "Requirement already satisfied: matplotlib>=3.5.1 in c:\\users\\kaila\\appdata\\local\\programs\\python\\python312\\lib\\site-packages (from wildlife-datasets) (3.10.0)\n",
      "Requirement already satisfied: pycocotools>=2.0.1 in c:\\users\\kaila\\appdata\\local\\programs\\python\\python312\\lib\\site-packages (from wildlife-datasets) (2.0.8)\n",
      "Requirement already satisfied: datasets in c:\\users\\kaila\\appdata\\local\\programs\\python\\python312\\lib\\site-packages (from wildlife-datasets) (3.5.0)\n",
      "Requirement already satisfied: gdown in c:\\users\\kaila\\appdata\\local\\programs\\python\\python312\\lib\\site-packages (from wildlife-datasets) (5.2.0)\n",
      "Requirement already satisfied: kaggle in c:\\users\\kaila\\appdata\\local\\programs\\python\\python312\\lib\\site-packages (from wildlife-datasets) (1.7.4.2)\n",
      "Requirement already satisfied: contourpy>=1.0.1 in c:\\users\\kaila\\appdata\\local\\programs\\python\\python312\\lib\\site-packages (from matplotlib>=3.5.1->wildlife-datasets) (1.3.1)\n",
      "Requirement already satisfied: cycler>=0.10 in c:\\users\\kaila\\appdata\\local\\programs\\python\\python312\\lib\\site-packages (from matplotlib>=3.5.1->wildlife-datasets) (0.12.1)\n",
      "Requirement already satisfied: fonttools>=4.22.0 in c:\\users\\kaila\\appdata\\local\\programs\\python\\python312\\lib\\site-packages (from matplotlib>=3.5.1->wildlife-datasets) (4.56.0)\n",
      "Requirement already satisfied: kiwisolver>=1.3.1 in c:\\users\\kaila\\appdata\\local\\programs\\python\\python312\\lib\\site-packages (from matplotlib>=3.5.1->wildlife-datasets) (1.4.8)\n",
      "Requirement already satisfied: packaging>=20.0 in c:\\users\\kaila\\appdata\\local\\programs\\python\\python312\\lib\\site-packages (from matplotlib>=3.5.1->wildlife-datasets) (24.1)\n",
      "Requirement already satisfied: pyparsing>=2.3.1 in c:\\users\\kaila\\appdata\\local\\programs\\python\\python312\\lib\\site-packages (from matplotlib>=3.5.1->wildlife-datasets) (3.2.1)\n",
      "Requirement already satisfied: python-dateutil>=2.7 in c:\\users\\kaila\\appdata\\local\\programs\\python\\python312\\lib\\site-packages (from matplotlib>=3.5.1->wildlife-datasets) (2.9.0.post0)\n",
      "Requirement already satisfied: pytz>=2020.1 in c:\\users\\kaila\\appdata\\local\\programs\\python\\python312\\lib\\site-packages (from pandas>=1.1.4->wildlife-datasets) (2025.2)\n",
      "Requirement already satisfied: tzdata>=2022.7 in c:\\users\\kaila\\appdata\\local\\programs\\python\\python312\\lib\\site-packages (from pandas>=1.1.4->wildlife-datasets) (2025.2)\n",
      "Requirement already satisfied: scipy>=1.6.0 in c:\\users\\kaila\\appdata\\local\\programs\\python\\python312\\lib\\site-packages (from scikit-learn>=1.0.1->wildlife-datasets) (1.15.2)\n",
      "Requirement already satisfied: joblib>=1.2.0 in c:\\users\\kaila\\appdata\\local\\programs\\python\\python312\\lib\\site-packages (from scikit-learn>=1.0.1->wildlife-datasets) (1.4.2)\n",
      "Requirement already satisfied: threadpoolctl>=3.1.0 in c:\\users\\kaila\\appdata\\local\\programs\\python\\python312\\lib\\site-packages (from scikit-learn>=1.0.1->wildlife-datasets) (3.6.0)\n",
      "Requirement already satisfied: colorama in c:\\users\\kaila\\appdata\\local\\programs\\python\\python312\\lib\\site-packages (from tqdm>=4.62.3->wildlife-datasets) (0.4.6)\n",
      "Requirement already satisfied: filelock in c:\\users\\kaila\\appdata\\local\\programs\\python\\python312\\lib\\site-packages (from datasets->wildlife-datasets) (3.17.0)\n",
      "Requirement already satisfied: pyarrow>=15.0.0 in c:\\users\\kaila\\appdata\\local\\programs\\python\\python312\\lib\\site-packages (from datasets->wildlife-datasets) (19.0.1)\n",
      "Requirement already satisfied: dill<0.3.9,>=0.3.0 in c:\\users\\kaila\\appdata\\local\\programs\\python\\python312\\lib\\site-packages (from datasets->wildlife-datasets) (0.3.8)\n",
      "Requirement already satisfied: requests>=2.32.2 in c:\\users\\kaila\\appdata\\local\\programs\\python\\python312\\lib\\site-packages (from datasets->wildlife-datasets) (2.32.3)\n",
      "Requirement already satisfied: xxhash in c:\\users\\kaila\\appdata\\local\\programs\\python\\python312\\lib\\site-packages (from datasets->wildlife-datasets) (3.5.0)\n",
      "Requirement already satisfied: multiprocess<0.70.17 in c:\\users\\kaila\\appdata\\local\\programs\\python\\python312\\lib\\site-packages (from datasets->wildlife-datasets) (0.70.16)\n",
      "Requirement already satisfied: fsspec<=2024.12.0,>=2023.1.0 in c:\\users\\kaila\\appdata\\local\\programs\\python\\python312\\lib\\site-packages (from fsspec[http]<=2024.12.0,>=2023.1.0->datasets->wildlife-datasets) (2024.12.0)\n",
      "Requirement already satisfied: aiohttp in c:\\users\\kaila\\appdata\\local\\programs\\python\\python312\\lib\\site-packages (from datasets->wildlife-datasets) (3.11.16)\n",
      "Requirement already satisfied: huggingface-hub>=0.24.0 in c:\\users\\kaila\\appdata\\local\\programs\\python\\python312\\lib\\site-packages (from datasets->wildlife-datasets) (0.30.1)\n",
      "Requirement already satisfied: pyyaml>=5.1 in c:\\users\\kaila\\appdata\\local\\programs\\python\\python312\\lib\\site-packages (from datasets->wildlife-datasets) (6.0.2)\n",
      "Requirement already satisfied: beautifulsoup4 in c:\\users\\kaila\\appdata\\local\\programs\\python\\python312\\lib\\site-packages (from gdown->wildlife-datasets) (4.13.3)\n",
      "Requirement already satisfied: bleach in c:\\users\\kaila\\appdata\\local\\programs\\python\\python312\\lib\\site-packages (from kaggle->wildlife-datasets) (6.2.0)\n",
      "Requirement already satisfied: certifi>=14.05.14 in c:\\users\\kaila\\appdata\\local\\programs\\python\\python312\\lib\\site-packages (from kaggle->wildlife-datasets) (2025.1.31)\n",
      "Requirement already satisfied: charset-normalizer in c:\\users\\kaila\\appdata\\local\\programs\\python\\python312\\lib\\site-packages (from kaggle->wildlife-datasets) (3.4.1)\n",
      "Requirement already satisfied: idna in c:\\users\\kaila\\appdata\\local\\programs\\python\\python312\\lib\\site-packages (from kaggle->wildlife-datasets) (3.10)\n",
      "Requirement already satisfied: protobuf in c:\\users\\kaila\\appdata\\local\\programs\\python\\python312\\lib\\site-packages (from kaggle->wildlife-datasets) (6.30.2)\n",
      "Requirement already satisfied: python-slugify in c:\\users\\kaila\\appdata\\local\\programs\\python\\python312\\lib\\site-packages (from kaggle->wildlife-datasets) (8.0.4)\n",
      "Requirement already satisfied: setuptools>=21.0.0 in c:\\users\\kaila\\appdata\\local\\programs\\python\\python312\\lib\\site-packages (from kaggle->wildlife-datasets) (75.8.0)\n",
      "Requirement already satisfied: six>=1.10 in c:\\users\\kaila\\appdata\\local\\programs\\python\\python312\\lib\\site-packages (from kaggle->wildlife-datasets) (1.17.0)\n",
      "Requirement already satisfied: text-unidecode in c:\\users\\kaila\\appdata\\local\\programs\\python\\python312\\lib\\site-packages (from kaggle->wildlife-datasets) (1.3)\n",
      "Requirement already satisfied: urllib3>=1.15.1 in c:\\users\\kaila\\appdata\\local\\programs\\python\\python312\\lib\\site-packages (from kaggle->wildlife-datasets) (2.3.0)\n",
      "Requirement already satisfied: webencodings in c:\\users\\kaila\\appdata\\local\\programs\\python\\python312\\lib\\site-packages (from kaggle->wildlife-datasets) (0.5.1)\n",
      "Requirement already satisfied: aiohappyeyeballs>=2.3.0 in c:\\users\\kaila\\appdata\\local\\programs\\python\\python312\\lib\\site-packages (from aiohttp->datasets->wildlife-datasets) (2.6.1)\n",
      "Requirement already satisfied: aiosignal>=1.1.2 in c:\\users\\kaila\\appdata\\local\\programs\\python\\python312\\lib\\site-packages (from aiohttp->datasets->wildlife-datasets) (1.3.2)\n",
      "Requirement already satisfied: attrs>=17.3.0 in c:\\users\\kaila\\appdata\\local\\programs\\python\\python312\\lib\\site-packages (from aiohttp->datasets->wildlife-datasets) (25.3.0)\n",
      "Requirement already satisfied: frozenlist>=1.1.1 in c:\\users\\kaila\\appdata\\local\\programs\\python\\python312\\lib\\site-packages (from aiohttp->datasets->wildlife-datasets) (1.5.0)\n",
      "Requirement already satisfied: multidict<7.0,>=4.5 in c:\\users\\kaila\\appdata\\local\\programs\\python\\python312\\lib\\site-packages (from aiohttp->datasets->wildlife-datasets) (6.3.2)\n",
      "Requirement already satisfied: propcache>=0.2.0 in c:\\users\\kaila\\appdata\\local\\programs\\python\\python312\\lib\\site-packages (from aiohttp->datasets->wildlife-datasets) (0.3.1)\n",
      "Requirement already satisfied: yarl<2.0,>=1.17.0 in c:\\users\\kaila\\appdata\\local\\programs\\python\\python312\\lib\\site-packages (from aiohttp->datasets->wildlife-datasets) (1.18.3)\n",
      "Requirement already satisfied: typing-extensions>=3.7.4.3 in c:\\users\\kaila\\appdata\\local\\programs\\python\\python312\\lib\\site-packages (from huggingface-hub>=0.24.0->datasets->wildlife-datasets) (4.12.2)\n",
      "Requirement already satisfied: soupsieve>1.2 in c:\\users\\kaila\\appdata\\local\\programs\\python\\python312\\lib\\site-packages (from beautifulsoup4->gdown->wildlife-datasets) (2.6)\n",
      "Requirement already satisfied: PySocks!=1.5.7,>=1.5.6 in c:\\users\\kaila\\appdata\\local\\programs\\python\\python312\\lib\\site-packages (from requests[socks]->gdown->wildlife-datasets) (1.7.1)\n",
      "Note: you may need to restart the kernel to use updated packages.\n"
     ]
    }
   ],
   "source": [
    "pip install wildlife-datasets"
   ]
  },
  {
   "cell_type": "code",
   "execution_count": 4,
   "id": "3b336a3d",
   "metadata": {},
   "outputs": [
    {
     "name": "stderr",
     "output_type": "stream",
     "text": [
      "c:\\Users\\kaila\\AppData\\Local\\Programs\\Python\\Python312\\Lib\\site-packages\\tqdm\\auto.py:21: TqdmWarning: IProgress not found. Please update jupyter and ipywidgets. See https://ipywidgets.readthedocs.io/en/stable/user_install.html\n",
      "  from .autonotebook import tqdm as notebook_tqdm\n"
     ]
    }
   ],
   "source": [
    "from wildlife_datasets import analysis, datasets, loader"
   ]
  },
  {
   "cell_type": "code",
   "execution_count": 5,
   "id": "b27f2d5c",
   "metadata": {},
   "outputs": [
    {
     "ename": "NameError",
     "evalue": "name 'wildlife_datasets' is not defined",
     "output_type": "error",
     "traceback": [
      "\u001b[31m---------------------------------------------------------------------------\u001b[39m",
      "\u001b[31mNameError\u001b[39m                                 Traceback (most recent call last)",
      "\u001b[36mCell\u001b[39m\u001b[36m \u001b[39m\u001b[32mIn[5]\u001b[39m\u001b[32m, line 1\u001b[39m\n\u001b[32m----> \u001b[39m\u001b[32m1\u001b[39m \u001b[43mwildlife_datasets\u001b[49m.datasets.aerial_cattle.AerialCattle2017\n\u001b[32m      2\u001b[39m wildlife_datasets.datasets.beluga_id.BelugaIDv2\n\u001b[32m      3\u001b[39m wildlife_datasets.datasets.ctai.CTai\n",
      "\u001b[31mNameError\u001b[39m: name 'wildlife_datasets' is not defined"
     ]
    }
   ],
   "source": [
    "wildlife_datasets.datasets.aerial_cattle.AerialCattle2017\n",
    "wildlife_datasets.datasets.beluga_id.BelugaIDv2\n",
    "wildlife_datasets.datasets.ctai.CTai\n",
    "wildlife_datasets.datasets.czoo.CZoo\n",
    "wildlife_datasets.datasets.dog_face_net.DogFaceNet\n",
    "wildlife_datasets.datasets.elpephants.ELPephants\n",
    "wildlife_datasets.datasets.friesian_cattle.FriesianCattle2015v2\n",
    "wildlife_datasets.datasets.friesian_cattle.FriesianCattle2017\n",
    "wildlife_datasets.datasets.ipanda.IPanda50\n",
    "wildlife_datasets.datasets.macaque_faces.MacaqueFaces\n",
    "wildlife_datasets.datasets.mpdd.MPDD\n",
    "wildlife_datasets.datasets.nyala_data.NyalaData\n",
    "wildlife_datasets.datasets.polar_bear_vid_id.PolarBearVidID\n",
    "wildlife_datasets.datasets.reunion_turtles.ReunionTurtles\n",
    "wildlife_datasets.datasets.sea_turtle_id.SeaTurtleIDHeads\n",
    "wildlife_datasets.datasets.southern_province_turtles.SouthernProvinceTurtles\n",
    "wildlife_datasets.datasets.stripe_spotter.StripeSpotter\n",
    "wildlife_datasets.datasets.zakynthos_turtles.ZakynthosTurtles"
   ]
  },
  {
   "cell_type": "code",
   "execution_count": 7,
   "id": "afd14c8f",
   "metadata": {},
   "outputs": [
    {
     "name": "stdout",
     "output_type": "stream",
     "text": [
      "DATASET AerialCattle2017: DOWNLOADING STARTED.\n"
     ]
    },
    {
     "name": "stderr",
     "output_type": "stream",
     "text": [
      "3owflku95bxsx24643cybxu3qh.zip: 724MB [16:07, 748kB/s]                                \n"
     ]
    },
    {
     "name": "stdout",
     "output_type": "stream",
     "text": [
      "DATASET AerialCattle2017: EXTRACTING STARTED.\n",
      "DATASET AerialCattle2017: FINISHED.\n",
      "\n"
     ]
    }
   ],
   "source": [
    "datasets.AerialCattle2017.get_data('data/AerialCattle2017')"
   ]
  },
  {
   "cell_type": "code",
   "execution_count": 8,
   "id": "fa3390f8",
   "metadata": {},
   "outputs": [
    {
     "data": {
      "text/plain": [
       "[wildlife_datasets.datasets.aerial_cattle.AerialCattle2017,\n",
       " wildlife_datasets.datasets.beluga_id.BelugaIDv2,\n",
       " wildlife_datasets.datasets.ctai.CTai,\n",
       " wildlife_datasets.datasets.czoo.CZoo,\n",
       " wildlife_datasets.datasets.dog_face_net.DogFaceNet,\n",
       " wildlife_datasets.datasets.elpephants.ELPephants,\n",
       " wildlife_datasets.datasets.friesian_cattle.FriesianCattle2015v2,\n",
       " wildlife_datasets.datasets.friesian_cattle.FriesianCattle2017,\n",
       " wildlife_datasets.datasets.ipanda.IPanda50,\n",
       " wildlife_datasets.datasets.macaque_faces.MacaqueFaces,\n",
       " wildlife_datasets.datasets.mpdd.MPDD,\n",
       " wildlife_datasets.datasets.nyala_data.NyalaData,\n",
       " wildlife_datasets.datasets.polar_bear_vid_id.PolarBearVidID,\n",
       " wildlife_datasets.datasets.reunion_turtles.ReunionTurtles,\n",
       " wildlife_datasets.datasets.sea_turtle_id.SeaTurtleIDHeads,\n",
       " wildlife_datasets.datasets.southern_province_turtles.SouthernProvinceTurtles,\n",
       " wildlife_datasets.datasets.stripe_spotter.StripeSpotter,\n",
       " wildlife_datasets.datasets.zakynthos_turtles.ZakynthosTurtles]"
      ]
     },
     "execution_count": 8,
     "metadata": {},
     "output_type": "execute_result"
    }
   ],
   "source": [
    "datasets.names_small"
   ]
  },
  {
   "cell_type": "code",
   "execution_count": null,
   "id": "37d49bb7",
   "metadata": {},
   "outputs": [],
   "source": []
  }
 ],
 "metadata": {
  "kernelspec": {
   "display_name": "Python 3",
   "language": "python",
   "name": "python3"
  },
  "language_info": {
   "codemirror_mode": {
    "name": "ipython",
    "version": 3
   },
   "file_extension": ".py",
   "mimetype": "text/x-python",
   "name": "python",
   "nbconvert_exporter": "python",
   "pygments_lexer": "ipython3",
   "version": "3.12.6"
  }
 },
 "nbformat": 4,
 "nbformat_minor": 5
}
